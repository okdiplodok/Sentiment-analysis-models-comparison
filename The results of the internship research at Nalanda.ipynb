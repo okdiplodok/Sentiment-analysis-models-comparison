{
 "cells": [
  {
   "cell_type": "markdown",
   "metadata": {},
   "source": [
    "# Comparison between Sentiment Classifiers"
   ]
  },
  {
   "cell_type": "markdown",
   "metadata": {},
   "source": [
    "This repository concerns the comparative analysis between existing sentiment classifiers and a classifier that I built myself. The models that are analysed are:\n",
    "-  Sentiment Neuron: a deep learning model developed by OpenAI; \n",
    "-  VADER Sentiment Analysis: a lexicon-based heuristic model;\n",
    "-  NBSVM: a hybrid model that brings together Naive Bayes and Support Vector Machines (SVM), adapted from __[(Manning & Wang, 2012)](https://github.com/sidaw/nbsvm)__.\n",
    "\n",
    "Three chosen models were tested on the Twitter corpus that I collected. This corpus consists of 70 pos/neg/neu tweets (210 in total) from UK published withing June - November 2018. The corpus is available in the current repository."
   ]
  },
  {
   "cell_type": "code",
   "execution_count": 9,
   "metadata": {},
   "outputs": [],
   "source": [
    "import pandas as pd\n",
    "import seaborn as sns\n",
    "from sklearn.metrics import confusion_matrix\n",
    "\n",
    "import itertools\n",
    "import numpy as np\n",
    "import matplotlib.pyplot as plt\n",
    "from sklearn.metrics import classification_report, accuracy_score\n",
    "import spacy\n",
    "from sklearn.feature_extraction.text import CountVectorizer\n",
    "from sklearn.naive_bayes import MultinomialNB\n",
    "from sklearn.pipeline import Pipeline\n",
    "from sklearn.svm import LinearSVC"
   ]
  },
  {
   "cell_type": "code",
   "execution_count": 3,
   "metadata": {},
   "outputs": [],
   "source": [
    "import nbsvm2"
   ]
  },
  {
   "cell_type": "code",
   "execution_count": 4,
   "metadata": {},
   "outputs": [],
   "source": [
    "nlp = spacy.load('en_core_web_sm')"
   ]
  },
  {
   "cell_type": "markdown",
   "metadata": {},
   "source": [
    "## Sentiment Neuron"
   ]
  },
  {
   "cell_type": "markdown",
   "metadata": {},
   "source": [
    "Firstly, let's load the test corpus."
   ]
  },
  {
   "cell_type": "code",
   "execution_count": 4,
   "metadata": {},
   "outputs": [],
   "source": [
    "tweets = pd.read_csv('Tweets - New set.tsv', sep='\\t', header=0)\n",
    "corpus = tweets[['Tweets','Sentiment']]"
   ]
  },
  {
   "cell_type": "markdown",
   "metadata": {},
   "source": [
    "The prerequisited to run this model can be seen at the __[model website](https://modeldepot.io/afowler/sentiment-neuron)__."
   ]
  },
  {
   "cell_type": "code",
   "execution_count": 6,
   "metadata": {},
   "outputs": [
    {
     "name": "stderr",
     "output_type": "stream",
     "text": [
      "/anaconda3/lib/python3.6/site-packages/h5py/__init__.py:36: FutureWarning: Conversion of the second argument of issubdtype from `float` to `np.floating` is deprecated. In future, it will be treated as `np.float64 == np.dtype(float).type`.\n",
      "  from ._conv import register_converters as _register_converters\n"
     ]
    },
    {
     "name": "stdout",
     "output_type": "stream",
     "text": [
      "WARNING:tensorflow:From /Users/ok_diplodok/Report/generating-reviews-discovering-sentiment/encoder.py:59: calling l2_normalize (from tensorflow.python.ops.nn_impl) with dim is deprecated and will be removed in a future version.\n",
      "Instructions for updating:\n",
      "dim is deprecated, use axis instead\n"
     ]
    }
   ],
   "source": [
    "from encoder import Model\n",
    "\n",
    "model = Model()"
   ]
  },
  {
   "cell_type": "code",
   "execution_count": 7,
   "metadata": {},
   "outputs": [
    {
     "name": "stdout",
     "output_type": "stream",
     "text": [
      "65.002 seconds to transform 210 examples\n"
     ]
    }
   ],
   "source": [
    "text_features = model.transform(corpus['Tweets'])"
   ]
  },
  {
   "cell_type": "code",
   "execution_count": 8,
   "metadata": {},
   "outputs": [
    {
     "name": "stderr",
     "output_type": "stream",
     "text": [
      "/anaconda3/lib/python3.6/site-packages/ipykernel_launcher.py:2: SettingWithCopyWarning: \n",
      "A value is trying to be set on a copy of a slice from a DataFrame.\n",
      "Try using .loc[row_indexer,col_indexer] = value instead\n",
      "\n",
      "See the caveats in the documentation: http://pandas.pydata.org/pandas-docs/stable/indexing.html#indexing-view-versus-copy\n",
      "  \n"
     ]
    }
   ],
   "source": [
    "score = text_features[:, 2388]\n",
    "corpus['SN'] = score"
   ]
  },
  {
   "cell_type": "code",
   "execution_count": 9,
   "metadata": {},
   "outputs": [],
   "source": [
    "pd.options.display.max_colwidth = 200"
   ]
  },
  {
   "cell_type": "code",
   "execution_count": 11,
   "metadata": {},
   "outputs": [
    {
     "data": {
      "text/html": [
       "<div>\n",
       "<style scoped>\n",
       "    .dataframe tbody tr th:only-of-type {\n",
       "        vertical-align: middle;\n",
       "    }\n",
       "\n",
       "    .dataframe tbody tr th {\n",
       "        vertical-align: top;\n",
       "    }\n",
       "\n",
       "    .dataframe thead th {\n",
       "        text-align: right;\n",
       "    }\n",
       "</style>\n",
       "<table border=\"1\" class=\"dataframe\">\n",
       "  <thead>\n",
       "    <tr style=\"text-align: right;\">\n",
       "      <th></th>\n",
       "      <th>Tweets</th>\n",
       "      <th>Sentiment</th>\n",
       "      <th>SN</th>\n",
       "    </tr>\n",
       "  </thead>\n",
       "  <tbody>\n",
       "    <tr>\n",
       "      <th>0</th>\n",
       "      <td>The roads are quite bad x</td>\n",
       "      <td>neg</td>\n",
       "      <td>-0.152479</td>\n",
       "    </tr>\n",
       "    <tr>\n",
       "      <th>1</th>\n",
       "      <td>Bridesmaids is actually quite poor, disappointed</td>\n",
       "      <td>neg</td>\n",
       "      <td>-1.007007</td>\n",
       "    </tr>\n",
       "    <tr>\n",
       "      <th>2</th>\n",
       "      <td>Doctors is so bad its actually quite terrible</td>\n",
       "      <td>neg</td>\n",
       "      <td>-0.934712</td>\n",
       "    </tr>\n",
       "    <tr>\n",
       "      <th>3</th>\n",
       "      <td>The end sequence is really quite good</td>\n",
       "      <td>pos</td>\n",
       "      <td>0.255769</td>\n",
       "    </tr>\n",
       "    <tr>\n",
       "      <th>4</th>\n",
       "      <td>Everyone was placed together on one table so it was quite nice x</td>\n",
       "      <td>pos</td>\n",
       "      <td>0.407855</td>\n",
       "    </tr>\n",
       "    <tr>\n",
       "      <th>5</th>\n",
       "      <td>Wish I was still playing beer pong in the sun! Why is the British weather so terrible</td>\n",
       "      <td>neg</td>\n",
       "      <td>0.113525</td>\n",
       "    </tr>\n",
       "    <tr>\n",
       "      <th>6</th>\n",
       "      <td>Always seems to be something to put me in a bad mood</td>\n",
       "      <td>neg</td>\n",
       "      <td>-0.052265</td>\n",
       "    </tr>\n",
       "    <tr>\n",
       "      <th>7</th>\n",
       "      <td>My dreams are so awful at the moment, they're actually putting me off going to sleep. Why 😭</td>\n",
       "      <td>neg</td>\n",
       "      <td>-0.197482</td>\n",
       "    </tr>\n",
       "    <tr>\n",
       "      <th>8</th>\n",
       "      <td>Thousand Autumns ... is my favourite, (best of a very good bunch). Fantastic book</td>\n",
       "      <td>pos</td>\n",
       "      <td>1.196892</td>\n",
       "    </tr>\n",
       "    <tr>\n",
       "      <th>9</th>\n",
       "      <td>The snacks look very good! We can’t wait to tuck in! #uxtailsoup</td>\n",
       "      <td>pos</td>\n",
       "      <td>0.678580</td>\n",
       "    </tr>\n",
       "    <tr>\n",
       "      <th>10</th>\n",
       "      <td>Lloyd Kelly is going to be some player when he's older was very good today</td>\n",
       "      <td>pos</td>\n",
       "      <td>0.479579</td>\n",
       "    </tr>\n",
       "    <tr>\n",
       "      <th>11</th>\n",
       "      <td>I hope my insomnia goes away tonight. I don't fancy being awake at 4am again.</td>\n",
       "      <td>neg</td>\n",
       "      <td>0.010413</td>\n",
       "    </tr>\n",
       "    <tr>\n",
       "      <th>12</th>\n",
       "      <td>I don’t like people who sugar coat things. Say it how it is, or don’t say anything at all. Move away with that pussy ass energy.</td>\n",
       "      <td>neg</td>\n",
       "      <td>-0.047880</td>\n",
       "    </tr>\n",
       "    <tr>\n",
       "      <th>13</th>\n",
       "      <td>Not ashamed to admit that I love a musical! Jersey Boys was fabulous!! @ Bristol Hippodrome</td>\n",
       "      <td>pos</td>\n",
       "      <td>0.673954</td>\n",
       "    </tr>\n",
       "    <tr>\n",
       "      <th>14</th>\n",
       "      <td>Free drink at work- don't mind if I do :+1:🏼</td>\n",
       "      <td>pos</td>\n",
       "      <td>0.493029</td>\n",
       "    </tr>\n",
       "    <tr>\n",
       "      <th>15</th>\n",
       "      <td>Not ashamed to admit Dolly made me cry #legend #Glastonbury #DollyGlasto #only1DollyParton</td>\n",
       "      <td>pos</td>\n",
       "      <td>0.359373</td>\n",
       "    </tr>\n",
       "    <tr>\n",
       "      <th>16</th>\n",
       "      <td>Rain isn’t that bad really! Beautiful reflections this morning here on Clifton Down @bbcrb @BBCBristol @theemmabritton - Happy Friday everyone!!</td>\n",
       "      <td>pos</td>\n",
       "      <td>0.314375</td>\n",
       "    </tr>\n",
       "    <tr>\n",
       "      <th>17</th>\n",
       "      <td>Conditions are not good out here #Bristol stay at home... we're still getting out but the roads are not good</td>\n",
       "      <td>neg</td>\n",
       "      <td>-0.367742</td>\n",
       "    </tr>\n",
       "    <tr>\n",
       "      <th>18</th>\n",
       "      <td>Halal &amp; Kosher meat is slaughtered cruelly .normal slaughter is bad enough but this should be banned #countryfile</td>\n",
       "      <td>neg</td>\n",
       "      <td>-0.335631</td>\n",
       "    </tr>\n",
       "    <tr>\n",
       "      <th>19</th>\n",
       "      <td>Terrible bar concept in the most beautiful of spaces. Such a wasted asset whoever runs #Bristol</td>\n",
       "      <td>neg</td>\n",
       "      <td>-1.372677</td>\n",
       "    </tr>\n",
       "    <tr>\n",
       "      <th>20</th>\n",
       "      <td>constantly feeling fat and ugly</td>\n",
       "      <td>neg</td>\n",
       "      <td>-0.803896</td>\n",
       "    </tr>\n",
       "    <tr>\n",
       "      <th>21</th>\n",
       "      <td>I should have taken the day off I feel horrible</td>\n",
       "      <td>neg</td>\n",
       "      <td>-0.383516</td>\n",
       "    </tr>\n",
       "    <tr>\n",
       "      <th>22</th>\n",
       "      <td>Today sucks. I’m cramping hard and it’s the anniversary of two of my friends’ deaths. Someone please send me cat memes whilst I play Overwatch and cry.</td>\n",
       "      <td>neg</td>\n",
       "      <td>-0.446835</td>\n",
       "    </tr>\n",
       "    <tr>\n",
       "      <th>23</th>\n",
       "      <td>So excited to find this @alpro unsweetened yoghurt! I really try to use plant based products</td>\n",
       "      <td>pos</td>\n",
       "      <td>0.727503</td>\n",
       "    </tr>\n",
       "    <tr>\n",
       "      <th>24</th>\n",
       "      <td>Nice little snow walk at 8:30 this morning in Peasedown St John #snowday #BeastFromTheEast2 #Peasedown #bathuk @psjresidents</td>\n",
       "      <td>pos</td>\n",
       "      <td>0.296626</td>\n",
       "    </tr>\n",
       "    <tr>\n",
       "      <th>25</th>\n",
       "      <td>Finishing off a good day with a good drink! 🍹🍹 #disaronnosour</td>\n",
       "      <td>pos</td>\n",
       "      <td>0.448412</td>\n",
       "    </tr>\n",
       "    <tr>\n",
       "      <th>26</th>\n",
       "      <td>Delicious vegan cakes this morning!! Definitely coming back for more very soon</td>\n",
       "      <td>pos</td>\n",
       "      <td>1.069311</td>\n",
       "    </tr>\n",
       "    <tr>\n",
       "      <th>27</th>\n",
       "      <td>It's really unfair how beautiful redheads are 😘😱</td>\n",
       "      <td>pos</td>\n",
       "      <td>0.077407</td>\n",
       "    </tr>\n",
       "    <tr>\n",
       "      <th>28</th>\n",
       "      <td>Hope you had an awesome day. It was great to have you with us Matt, you were all brilliant and so enthusiastic and took to it so well! Hopefully see you soon 🐑</td>\n",
       "      <td>pos</td>\n",
       "      <td>0.437834</td>\n",
       "    </tr>\n",
       "    <tr>\n",
       "      <th>29</th>\n",
       "      <td>It was sooooo well done. Best series In a long time. The story of the twins all the way through was just so beautiful and sad</td>\n",
       "      <td>pos</td>\n",
       "      <td>1.463712</td>\n",
       "    </tr>\n",
       "    <tr>\n",
       "      <th>...</th>\n",
       "      <td>...</td>\n",
       "      <td>...</td>\n",
       "      <td>...</td>\n",
       "    </tr>\n",
       "    <tr>\n",
       "      <th>180</th>\n",
       "      <td>Hopefully not she is horrible</td>\n",
       "      <td>neg</td>\n",
       "      <td>-0.155564</td>\n",
       "    </tr>\n",
       "    <tr>\n",
       "      <th>181</th>\n",
       "      <td>finally getting more confident with my skin &amp; the past few days i’ve been waking up with the worst breakouts😢</td>\n",
       "      <td>neg</td>\n",
       "      <td>0.261675</td>\n",
       "    </tr>\n",
       "    <tr>\n",
       "      <th>182</th>\n",
       "      <td>OL terrible. Absolute shambles this season.</td>\n",
       "      <td>neg</td>\n",
       "      <td>-1.262556</td>\n",
       "    </tr>\n",
       "    <tr>\n",
       "      <th>183</th>\n",
       "      <td>Honestly I'm surprised you watched it mate, couldn't think of anything worse to watch as a neural haha, showed glimpses? That is one of the worst performances from start to finish I've seen from u...</td>\n",
       "      <td>neg</td>\n",
       "      <td>-1.118979</td>\n",
       "    </tr>\n",
       "    <tr>\n",
       "      <th>184</th>\n",
       "      <td>All for fireworks but why can’t they make them without the noise, my dogs are so scared it’s horrible to see my babies this way😩☹️</td>\n",
       "      <td>neg</td>\n",
       "      <td>0.090688</td>\n",
       "    </tr>\n",
       "    <tr>\n",
       "      <th>185</th>\n",
       "      <td>Bloody annoying 😡xx</td>\n",
       "      <td>neg</td>\n",
       "      <td>-0.549154</td>\n",
       "    </tr>\n",
       "    <tr>\n",
       "      <th>186</th>\n",
       "      <td>Yes very disappointing to see the likes of Google and Facebook in there, they’re hardly going to respect people’s privacy as their business models rely on exploiting personal information and privacy.</td>\n",
       "      <td>neg</td>\n",
       "      <td>-0.728901</td>\n",
       "    </tr>\n",
       "    <tr>\n",
       "      <th>187</th>\n",
       "      <td>Same here! I see it the same way. Horses dying in a race seems to be a common occurrence too, it's awful</td>\n",
       "      <td>neg</td>\n",
       "      <td>-0.339142</td>\n",
       "    </tr>\n",
       "    <tr>\n",
       "      <th>188</th>\n",
       "      <td>Pathetic because it violated European law ..sick of this shit..</td>\n",
       "      <td>neg</td>\n",
       "      <td>-1.075740</td>\n",
       "    </tr>\n",
       "    <tr>\n",
       "      <th>189</th>\n",
       "      <td>Bloody hell thats awful</td>\n",
       "      <td>neg</td>\n",
       "      <td>-0.349280</td>\n",
       "    </tr>\n",
       "    <tr>\n",
       "      <th>190</th>\n",
       "      <td>my skin is very bad help xx</td>\n",
       "      <td>neg</td>\n",
       "      <td>-0.041637</td>\n",
       "    </tr>\n",
       "    <tr>\n",
       "      <th>191</th>\n",
       "      <td>Anything more annoying than videos not loading on here ???</td>\n",
       "      <td>neg</td>\n",
       "      <td>-0.724679</td>\n",
       "    </tr>\n",
       "    <tr>\n",
       "      <th>192</th>\n",
       "      <td>If I get sleep paralysis again tonight I’m probs gonna kill myself cause I can’t deal with that shit</td>\n",
       "      <td>neg</td>\n",
       "      <td>-0.043200</td>\n",
       "    </tr>\n",
       "    <tr>\n",
       "      <th>193</th>\n",
       "      <td>I hope Akeem wins now not that awful foul mouthed fake Cameron</td>\n",
       "      <td>neg</td>\n",
       "      <td>-0.377975</td>\n",
       "    </tr>\n",
       "    <tr>\n",
       "      <th>194</th>\n",
       "      <td>Huddersfield were shit as well to be honest</td>\n",
       "      <td>neg</td>\n",
       "      <td>0.016877</td>\n",
       "    </tr>\n",
       "    <tr>\n",
       "      <th>195</th>\n",
       "      <td>This is going to be controversial, but it's the truth. You choose your sides, choose who you ally with. Those racist, lowlife scum who burned a cardboard Grenfell will be Brexiters. Of that I've n...</td>\n",
       "      <td>neg</td>\n",
       "      <td>0.036768</td>\n",
       "    </tr>\n",
       "    <tr>\n",
       "      <th>196</th>\n",
       "      <td>It was disgusting</td>\n",
       "      <td>neg</td>\n",
       "      <td>-0.654058</td>\n",
       "    </tr>\n",
       "    <tr>\n",
       "      <th>197</th>\n",
       "      <td>Whoever shot and put together the promo pic for the spice girls announcement is so bad at their job I can’t even cope. Composition. Please.</td>\n",
       "      <td>neg</td>\n",
       "      <td>-1.271123</td>\n",
       "    </tr>\n",
       "    <tr>\n",
       "      <th>198</th>\n",
       "      <td>Literally the worst football match I've ever been to.</td>\n",
       "      <td>neg</td>\n",
       "      <td>-1.529562</td>\n",
       "    </tr>\n",
       "    <tr>\n",
       "      <th>199</th>\n",
       "      <td>And Caroline Lucas can fuck off she's such a stupid cow..</td>\n",
       "      <td>neg</td>\n",
       "      <td>-0.461403</td>\n",
       "    </tr>\n",
       "    <tr>\n",
       "      <th>200</th>\n",
       "      <td>@Hermesparcels you are a disgrace. Worst customer service ever. Call yourself a business! Bunch of clowns! Liars. Should be done for fraud!</td>\n",
       "      <td>neg</td>\n",
       "      <td>-1.348036</td>\n",
       "    </tr>\n",
       "    <tr>\n",
       "      <th>201</th>\n",
       "      <td>Pisses me off when people can’t understand my banter shut the fuck up</td>\n",
       "      <td>neg</td>\n",
       "      <td>-0.323183</td>\n",
       "    </tr>\n",
       "    <tr>\n",
       "      <th>202</th>\n",
       "      <td>They're annoying me so much, that I just want to blow them all up!</td>\n",
       "      <td>neg</td>\n",
       "      <td>-0.297268</td>\n",
       "    </tr>\n",
       "    <tr>\n",
       "      <th>203</th>\n",
       "      <td>Absolutely disgusting. What is wrong with people?!</td>\n",
       "      <td>neg</td>\n",
       "      <td>-1.343067</td>\n",
       "    </tr>\n",
       "    <tr>\n",
       "      <th>204</th>\n",
       "      <td>Just cried watching that video of those fuckfaces burning a grenfell tower effigy. Psychopaths. Heartbroken and utterly disgusted by what our species is capable of.😰</td>\n",
       "      <td>neg</td>\n",
       "      <td>0.305518</td>\n",
       "    </tr>\n",
       "    <tr>\n",
       "      <th>205</th>\n",
       "      <td>People are the worst</td>\n",
       "      <td>neg</td>\n",
       "      <td>-0.367950</td>\n",
       "    </tr>\n",
       "    <tr>\n",
       "      <th>206</th>\n",
       "      <td>What the actual fuck? Unbelievable</td>\n",
       "      <td>neg</td>\n",
       "      <td>-0.254181</td>\n",
       "    </tr>\n",
       "    <tr>\n",
       "      <th>207</th>\n",
       "      <td>Some people really are pathetic 🤦🏻‍♀️</td>\n",
       "      <td>neg</td>\n",
       "      <td>0.572178</td>\n",
       "    </tr>\n",
       "    <tr>\n",
       "      <th>208</th>\n",
       "      <td>Missing someone is the worst feeling ever😢😢</td>\n",
       "      <td>neg</td>\n",
       "      <td>-0.414410</td>\n",
       "    </tr>\n",
       "    <tr>\n",
       "      <th>209</th>\n",
       "      <td>in Birmingham and I’ve just realised how disgusting the accent is 🤢</td>\n",
       "      <td>neg</td>\n",
       "      <td>-0.576214</td>\n",
       "    </tr>\n",
       "  </tbody>\n",
       "</table>\n",
       "<p>210 rows × 3 columns</p>\n",
       "</div>"
      ],
      "text/plain": [
       "                                                                                                                                                                                                      Tweets  \\\n",
       "0                                                                                                                                                                                  The roads are quite bad x   \n",
       "1                                                                                                                                                           Bridesmaids is actually quite poor, disappointed   \n",
       "2                                                                                                                                                              Doctors is so bad its actually quite terrible   \n",
       "3                                                                                                                                                                      The end sequence is really quite good   \n",
       "4                                                                                                                                           Everyone was placed together on one table so it was quite nice x   \n",
       "5                                                                                                                      Wish I was still playing beer pong in the sun! Why is the British weather so terrible   \n",
       "6                                                                                                                                                       Always seems to be something to put me in a bad mood   \n",
       "7                                                                                                                My dreams are so awful at the moment, they're actually putting me off going to sleep. Why 😭   \n",
       "8                                                                                                                          Thousand Autumns ... is my favourite, (best of a very good bunch). Fantastic book   \n",
       "9                                                                                                                                           The snacks look very good! We can’t wait to tuck in! #uxtailsoup   \n",
       "10                                                                                                                                Lloyd Kelly is going to be some player when he's older was very good today   \n",
       "11                                                                                                                             I hope my insomnia goes away tonight. I don't fancy being awake at 4am again.   \n",
       "12                                                                          I don’t like people who sugar coat things. Say it how it is, or don’t say anything at all. Move away with that pussy ass energy.   \n",
       "13                                                                                                               Not ashamed to admit that I love a musical! Jersey Boys was fabulous!! @ Bristol Hippodrome   \n",
       "14                                                                                                                                                              Free drink at work- don't mind if I do :+1:🏼   \n",
       "15                                                                                                                Not ashamed to admit Dolly made me cry #legend #Glastonbury #DollyGlasto #only1DollyParton   \n",
       "16                                                          Rain isn’t that bad really! Beautiful reflections this morning here on Clifton Down @bbcrb @BBCBristol @theemmabritton - Happy Friday everyone!!   \n",
       "17                                                                                              Conditions are not good out here #Bristol stay at home... we're still getting out but the roads are not good   \n",
       "18                                                                                         Halal & Kosher meat is slaughtered cruelly .normal slaughter is bad enough but this should be banned #countryfile   \n",
       "19                                                                                                           Terrible bar concept in the most beautiful of spaces. Such a wasted asset whoever runs #Bristol   \n",
       "20                                                                                                                                                                           constantly feeling fat and ugly   \n",
       "21                                                                                                                                                           I should have taken the day off I feel horrible   \n",
       "22                                                   Today sucks. I’m cramping hard and it’s the anniversary of two of my friends’ deaths. Someone please send me cat memes whilst I play Overwatch and cry.   \n",
       "23                                                                                                              So excited to find this @alpro unsweetened yoghurt! I really try to use plant based products   \n",
       "24                                                                              Nice little snow walk at 8:30 this morning in Peasedown St John #snowday #BeastFromTheEast2 #Peasedown #bathuk @psjresidents   \n",
       "25                                                                                                                                             Finishing off a good day with a good drink! 🍹🍹 #disaronnosour   \n",
       "26                                                                                                                            Delicious vegan cakes this morning!! Definitely coming back for more very soon   \n",
       "27                                                                                                                                                          It's really unfair how beautiful redheads are 😘😱   \n",
       "28                                           Hope you had an awesome day. It was great to have you with us Matt, you were all brilliant and so enthusiastic and took to it so well! Hopefully see you soon 🐑   \n",
       "29                                                                             It was sooooo well done. Best series In a long time. The story of the twins all the way through was just so beautiful and sad   \n",
       "..                                                                                                                                                                                                       ...   \n",
       "180                                                                                                                                                                            Hopefully not she is horrible   \n",
       "181                                                                                            finally getting more confident with my skin & the past few days i’ve been waking up with the worst breakouts😢   \n",
       "182                                                                                                                                                              OL terrible. Absolute shambles this season.   \n",
       "183  Honestly I'm surprised you watched it mate, couldn't think of anything worse to watch as a neural haha, showed glimpses? That is one of the worst performances from start to finish I've seen from u...   \n",
       "184                                                                       All for fireworks but why can’t they make them without the noise, my dogs are so scared it’s horrible to see my babies this way😩☹️   \n",
       "185                                                                                                                                                                                      Bloody annoying 😡xx   \n",
       "186  Yes very disappointing to see the likes of Google and Facebook in there, they’re hardly going to respect people’s privacy as their business models rely on exploiting personal information and privacy.   \n",
       "187                                                                                                 Same here! I see it the same way. Horses dying in a race seems to be a common occurrence too, it's awful   \n",
       "188                                                                                                                                          Pathetic because it violated European law ..sick of this shit..   \n",
       "189                                                                                                                                                                                  Bloody hell thats awful   \n",
       "190                                                                                                                                                                              my skin is very bad help xx   \n",
       "191                                                                                                                                               Anything more annoying than videos not loading on here ???   \n",
       "192                                                                                                     If I get sleep paralysis again tonight I’m probs gonna kill myself cause I can’t deal with that shit   \n",
       "193                                                                                                                                           I hope Akeem wins now not that awful foul mouthed fake Cameron   \n",
       "194                                                                                                                                                              Huddersfield were shit as well to be honest   \n",
       "195  This is going to be controversial, but it's the truth. You choose your sides, choose who you ally with. Those racist, lowlife scum who burned a cardboard Grenfell will be Brexiters. Of that I've n...   \n",
       "196                                                                                                                                                                                        It was disgusting   \n",
       "197                                                              Whoever shot and put together the promo pic for the spice girls announcement is so bad at their job I can’t even cope. Composition. Please.   \n",
       "198                                                                                                                                                    Literally the worst football match I've ever been to.   \n",
       "199                                                                                                                                                And Caroline Lucas can fuck off she's such a stupid cow..   \n",
       "200                                                              @Hermesparcels you are a disgrace. Worst customer service ever. Call yourself a business! Bunch of clowns! Liars. Should be done for fraud!   \n",
       "201                                                                                                                                    Pisses me off when people can’t understand my banter shut the fuck up   \n",
       "202                                                                                                                                       They're annoying me so much, that I just want to blow them all up!   \n",
       "203                                                                                                                                                       Absolutely disgusting. What is wrong with people?!   \n",
       "204                                    Just cried watching that video of those fuckfaces burning a grenfell tower effigy. Psychopaths. Heartbroken and utterly disgusted by what our species is capable of.😰   \n",
       "205                                                                                                                                                                                     People are the worst   \n",
       "206                                                                                                                                                                       What the actual fuck? Unbelievable   \n",
       "207                                                                                                                                                                    Some people really are pathetic 🤦🏻‍♀️   \n",
       "208                                                                                                                                                              Missing someone is the worst feeling ever😢😢   \n",
       "209                                                                                                                                      in Birmingham and I’ve just realised how disgusting the accent is 🤢   \n",
       "\n",
       "    Sentiment        SN  \n",
       "0         neg -0.152479  \n",
       "1         neg -1.007007  \n",
       "2         neg -0.934712  \n",
       "3         pos  0.255769  \n",
       "4         pos  0.407855  \n",
       "5         neg  0.113525  \n",
       "6         neg -0.052265  \n",
       "7         neg -0.197482  \n",
       "8         pos  1.196892  \n",
       "9         pos  0.678580  \n",
       "10        pos  0.479579  \n",
       "11        neg  0.010413  \n",
       "12        neg -0.047880  \n",
       "13        pos  0.673954  \n",
       "14        pos  0.493029  \n",
       "15        pos  0.359373  \n",
       "16        pos  0.314375  \n",
       "17        neg -0.367742  \n",
       "18        neg -0.335631  \n",
       "19        neg -1.372677  \n",
       "20        neg -0.803896  \n",
       "21        neg -0.383516  \n",
       "22        neg -0.446835  \n",
       "23        pos  0.727503  \n",
       "24        pos  0.296626  \n",
       "25        pos  0.448412  \n",
       "26        pos  1.069311  \n",
       "27        pos  0.077407  \n",
       "28        pos  0.437834  \n",
       "29        pos  1.463712  \n",
       "..        ...       ...  \n",
       "180       neg -0.155564  \n",
       "181       neg  0.261675  \n",
       "182       neg -1.262556  \n",
       "183       neg -1.118979  \n",
       "184       neg  0.090688  \n",
       "185       neg -0.549154  \n",
       "186       neg -0.728901  \n",
       "187       neg -0.339142  \n",
       "188       neg -1.075740  \n",
       "189       neg -0.349280  \n",
       "190       neg -0.041637  \n",
       "191       neg -0.724679  \n",
       "192       neg -0.043200  \n",
       "193       neg -0.377975  \n",
       "194       neg  0.016877  \n",
       "195       neg  0.036768  \n",
       "196       neg -0.654058  \n",
       "197       neg -1.271123  \n",
       "198       neg -1.529562  \n",
       "199       neg -0.461403  \n",
       "200       neg -1.348036  \n",
       "201       neg -0.323183  \n",
       "202       neg -0.297268  \n",
       "203       neg -1.343067  \n",
       "204       neg  0.305518  \n",
       "205       neg -0.367950  \n",
       "206       neg -0.254181  \n",
       "207       neg  0.572178  \n",
       "208       neg -0.414410  \n",
       "209       neg -0.576214  \n",
       "\n",
       "[210 rows x 3 columns]"
      ]
     },
     "execution_count": 11,
     "metadata": {},
     "output_type": "execute_result"
    }
   ],
   "source": [
    "corpus"
   ]
  },
  {
   "cell_type": "code",
   "execution_count": 12,
   "metadata": {},
   "outputs": [
    {
     "data": {
      "text/plain": [
       "-1.7710530757904053"
      ]
     },
     "execution_count": 12,
     "metadata": {},
     "output_type": "execute_result"
    }
   ],
   "source": [
    "min(corpus['SN'])"
   ]
  },
  {
   "cell_type": "code",
   "execution_count": 13,
   "metadata": {},
   "outputs": [
    {
     "data": {
      "text/plain": [
       "1.4637116193771362"
      ]
     },
     "execution_count": 13,
     "metadata": {},
     "output_type": "execute_result"
    }
   ],
   "source": [
    "max(corpus['SN'])"
   ]
  },
  {
   "cell_type": "markdown",
   "metadata": {},
   "source": [
    "We are going to apply the thresholds from SentiVADER to convert Sentiment Neuron scale to trinary output. \n",
    "The thresholds are:\n",
    "  - negative: <= -0.05;\n",
    "  - neutral: -0.05 < tweet < 0.05;\n",
    "  - positive: >= 0.05.\n",
    "  "
   ]
  },
  {
   "cell_type": "code",
   "execution_count": 18,
   "metadata": {},
   "outputs": [],
   "source": [
    "def interval(row):\n",
    "    if row >= 0.05:\n",
    "        val = 'pos'\n",
    "    elif row <= -0.05:\n",
    "        val = 'neg'\n",
    "    else:\n",
    "        val = 'neu'\n",
    "    return val"
   ]
  },
  {
   "cell_type": "code",
   "execution_count": 19,
   "metadata": {},
   "outputs": [
    {
     "name": "stderr",
     "output_type": "stream",
     "text": [
      "/anaconda3/lib/python3.6/site-packages/ipykernel_launcher.py:1: SettingWithCopyWarning: \n",
      "A value is trying to be set on a copy of a slice from a DataFrame.\n",
      "Try using .loc[row_indexer,col_indexer] = value instead\n",
      "\n",
      "See the caveats in the documentation: http://pandas.pydata.org/pandas-docs/stable/indexing.html#indexing-view-versus-copy\n",
      "  \"\"\"Entry point for launching an IPython kernel.\n"
     ]
    }
   ],
   "source": [
    "corpus['SN_tri'] = corpus['SN'].map(interval)"
   ]
  },
  {
   "cell_type": "markdown",
   "metadata": {},
   "source": [
    "## Visualisations"
   ]
  },
  {
   "cell_type": "markdown",
   "metadata": {},
   "source": [
    "Let's compare the true labels of the test set with the Sentiment Neuron trinary output converted from a scale. "
   ]
  },
  {
   "cell_type": "code",
   "execution_count": 15,
   "metadata": {},
   "outputs": [
    {
     "name": "stdout",
     "output_type": "stream",
     "text": [
      "             precision    recall  f1-score   support\n",
      "\n",
      "        neg       0.71      0.76      0.73        70\n",
      "        neu       0.61      0.16      0.25        70\n",
      "        pos       0.60      1.00      0.75        70\n",
      "\n",
      "avg / total       0.64      0.64      0.58       210\n",
      "\n"
     ]
    }
   ],
   "source": [
    "print(classification_report(corpus['Sentiment'], corpus['SN_tri'], target_names=['neg', 'neu', 'pos']))"
   ]
  },
  {
   "cell_type": "code",
   "execution_count": 11,
   "metadata": {},
   "outputs": [],
   "source": [
    "def plot_confusion_matrix(cm, classes,\n",
    "                          normalize=False,\n",
    "                          title='Confusion matrix',\n",
    "                          cmap=plt.cm.Blues):\n",
    "#cmap=plt.cm.Blues\n",
    "    \"\"\"\n",
    "    This function prints and plots the confusion matrix.\n",
    "    Normalization can be applied by setting `normalize=True`.\n",
    "    \"\"\"\n",
    "    if normalize:\n",
    "        cm = cm.astype('float') / cm.sum(axis=1)[:, np.newaxis]\n",
    "        print(\"Normalized confusion matrix\")\n",
    "    else:\n",
    "        print('Confusion matrix, without normalization')\n",
    "\n",
    "    print(cm)\n",
    "\n",
    "    plt.imshow(cm, interpolation='nearest', cmap=cmap)\n",
    "    plt.title(title)\n",
    "    plt.colorbar()\n",
    "    tick_marks = np.arange(len(classes))\n",
    "    plt.xticks(tick_marks, classes, rotation=45)\n",
    "    plt.yticks(tick_marks, classes)\n",
    "\n",
    "    fmt = '.2f' if normalize else 'd'\n",
    "    thresh = cm.max() / 2.\n",
    "    for i, j in itertools.product(range(cm.shape[0]), range(cm.shape[1])):\n",
    "        plt.text(j, i, format(cm[i, j], fmt),\n",
    "                 horizontalalignment=\"center\",\n",
    "                 color=\"white\" if cm[i, j] > thresh else \"black\")\n",
    "\n",
    "    plt.ylabel('True label')\n",
    "    plt.xlabel('Predicted label')\n",
    "    plt.tight_layout()"
   ]
  },
  {
   "cell_type": "code",
   "execution_count": 18,
   "metadata": {},
   "outputs": [],
   "source": [
    "cnf_matrix = confusion_matrix(corpus['Sentiment'], corpus['SN_tri'])\n",
    "np.set_printoptions(precision=2)"
   ]
  },
  {
   "cell_type": "code",
   "execution_count": 19,
   "metadata": {},
   "outputs": [
    {
     "name": "stdout",
     "output_type": "stream",
     "text": [
      "Confusion matrix, without normalization\n",
      "[[53  7 10]\n",
      " [22 11 37]\n",
      " [ 0  0 70]]\n"
     ]
    },
    {
     "data": {
      "image/png": "[encoded data removed]",
      "text/plain": [
       "<Figure size 576x432 with 2 Axes>"
      ]
     },
     "metadata": {},
     "output_type": "display_data"
    }
   ],
   "source": [
    "plt.figure(figsize=(8,6))\n",
    "plot_confusion_matrix(cnf_matrix, classes=['neg', 'neu', 'pos'],\n",
    "                      title='Sentiment Neuron confusion matrix')"
   ]
  },
  {
   "cell_type": "markdown",
   "metadata": {},
   "source": [
    "Let's draw a fine-grained plot where the scale is split into 5 different categories: exteremely negative - negative - neutral - positive - extremely positive. "
   ]
  },
  {
   "cell_type": "code",
   "execution_count": 28,
   "metadata": {},
   "outputs": [],
   "source": [
    "def detailed_scale(row):\n",
    "    if row >= 1:\n",
    "        val = 'very pos'\n",
    "    elif row < 1 and row >= 0.05:\n",
    "        val = 'pos'\n",
    "    elif row < 0.05 and row > -0.05:\n",
    "        val = 'neu'\n",
    "    elif row <= -0.05 and row > -1:\n",
    "        val = 'neg'\n",
    "    elif row <= -1:\n",
    "        val = 'very neg'\n",
    "    return val"
   ]
  },
  {
   "cell_type": "code",
   "execution_count": 29,
   "metadata": {},
   "outputs": [],
   "source": [
    "corpus['SN_labels'] = corpus['SN'].map(detailed_scale)"
   ]
  },
  {
   "cell_type": "code",
   "execution_count": 30,
   "metadata": {},
   "outputs": [],
   "source": [
    "list_ordering = ['very neg', 'neg', 'neu', 'pos', 'very pos']\n",
    "corpus[\"SN_labels\"] = pd.Categorical(corpus[\"SN_labels\"], categories=list_ordering, ordered=True) "
   ]
  },
  {
   "cell_type": "code",
   "execution_count": 31,
   "metadata": {},
   "outputs": [],
   "source": [
    "list_ordering = ['neg', 'neu', 'pos']\n",
    "corpus[\"Sentiment\"] = pd.Categorical(corpus[\"Sentiment\"], categories=list_ordering, ordered=True) "
   ]
  },
  {
   "cell_type": "code",
   "execution_count": 32,
   "metadata": {},
   "outputs": [
    {
     "data": {
      "image/png": "[encoded data removed]",
      "text/plain": [
       "<Figure size 1080x360 with 3 Axes>"
      ]
     },
     "metadata": {},
     "output_type": "display_data"
    }
   ],
   "source": [
    "g = sns.catplot(x=\"SN_labels\", col=\"Sentiment\", col_wrap=3, data=corpus, \n",
    "                kind=\"count\", palette='muted')"
   ]
  },
  {
   "cell_type": "markdown",
   "metadata": {},
   "source": [
    "1. As far as the confusion matrix is concerned, all of the positive examples were correctly classified by Sentiment Neuron. The category that was confused the most is neutral. This result can be explained by the fact that it is hard to find tweets that are **absolutely** neutral without any flavour of sentiment. Negative tweets were confused with neutral and positive tweets. Neg-neu confusion is more intuitive, since these are borderline cases on a scale that were arbitrarily splitted into two categarories. Neg-pos confusion is more severe, as it concerns the tweets that were mistakenly put on the two different edges of the scale.\n",
    "2. If we compare the discrete labelling to the scale, we can see that the negative category is mostly spread across different labels: there are negative tweets that are misclassified as neutral and negative. Luckily, the classifier error doesn't spread to the extremes of the scale: there are no negative tweets on the 'very positive' end of the scale. In addition, missclassification of the neutral tweets covers only nearby segments of the scale: negative and positive. \n",
    "\n",
    "Since the neg-pos missclassification is more severe, let's take a look at the negative tweets that were mistakenly put into neutral and positive categories and compate them."
   ]
  },
  {
   "cell_type": "code",
   "execution_count": 33,
   "metadata": {},
   "outputs": [
    {
     "data": {
      "text/html": [
       "<div>\n",
       "<style scoped>\n",
       "    .dataframe tbody tr th:only-of-type {\n",
       "        vertical-align: middle;\n",
       "    }\n",
       "\n",
       "    .dataframe tbody tr th {\n",
       "        vertical-align: top;\n",
       "    }\n",
       "\n",
       "    .dataframe thead th {\n",
       "        text-align: right;\n",
       "    }\n",
       "</style>\n",
       "<table border=\"1\" class=\"dataframe\">\n",
       "  <thead>\n",
       "    <tr style=\"text-align: right;\">\n",
       "      <th></th>\n",
       "      <th>Tweets</th>\n",
       "      <th>SN</th>\n",
       "    </tr>\n",
       "  </thead>\n",
       "  <tbody>\n",
       "    <tr>\n",
       "      <th>11</th>\n",
       "      <td>I hope my insomnia goes away tonight. I don't fancy being awake at 4am again.</td>\n",
       "      <td>0.010413</td>\n",
       "    </tr>\n",
       "    <tr>\n",
       "      <th>12</th>\n",
       "      <td>I don’t like people who sugar coat things. Say it how it is, or don’t say anything at all. Move away with that pussy ass energy.</td>\n",
       "      <td>-0.047880</td>\n",
       "    </tr>\n",
       "    <tr>\n",
       "      <th>168</th>\n",
       "      <td>Honestly feel like shit Cba</td>\n",
       "      <td>0.047477</td>\n",
       "    </tr>\n",
       "    <tr>\n",
       "      <th>190</th>\n",
       "      <td>my skin is very bad help xx</td>\n",
       "      <td>-0.041637</td>\n",
       "    </tr>\n",
       "    <tr>\n",
       "      <th>192</th>\n",
       "      <td>If I get sleep paralysis again tonight I’m probs gonna kill myself cause I can’t deal with that shit</td>\n",
       "      <td>-0.043200</td>\n",
       "    </tr>\n",
       "    <tr>\n",
       "      <th>194</th>\n",
       "      <td>Huddersfield were shit as well to be honest</td>\n",
       "      <td>0.016877</td>\n",
       "    </tr>\n",
       "    <tr>\n",
       "      <th>195</th>\n",
       "      <td>This is going to be controversial, but it's the truth. You choose your sides, choose who you ally with. Those racist, lowlife scum who burned a cardboard Grenfell will be Brexiters. Of that I've n...</td>\n",
       "      <td>0.036768</td>\n",
       "    </tr>\n",
       "  </tbody>\n",
       "</table>\n",
       "</div>"
      ],
      "text/plain": [
       "                                                                                                                                                                                                      Tweets  \\\n",
       "11                                                                                                                             I hope my insomnia goes away tonight. I don't fancy being awake at 4am again.   \n",
       "12                                                                          I don’t like people who sugar coat things. Say it how it is, or don’t say anything at all. Move away with that pussy ass energy.   \n",
       "168                                                                                                                                                                              Honestly feel like shit Cba   \n",
       "190                                                                                                                                                                              my skin is very bad help xx   \n",
       "192                                                                                                     If I get sleep paralysis again tonight I’m probs gonna kill myself cause I can’t deal with that shit   \n",
       "194                                                                                                                                                              Huddersfield were shit as well to be honest   \n",
       "195  This is going to be controversial, but it's the truth. You choose your sides, choose who you ally with. Those racist, lowlife scum who burned a cardboard Grenfell will be Brexiters. Of that I've n...   \n",
       "\n",
       "           SN  \n",
       "11   0.010413  \n",
       "12  -0.047880  \n",
       "168  0.047477  \n",
       "190 -0.041637  \n",
       "192 -0.043200  \n",
       "194  0.016877  \n",
       "195  0.036768  "
      ]
     },
     "execution_count": 33,
     "metadata": {},
     "output_type": "execute_result"
    }
   ],
   "source": [
    "# Neg-neu:\n",
    "corpus[(corpus['Sentiment'] == 'neg') & (corpus['SN_tri'] == 'neu')][['Tweets', 'SN']]"
   ]
  },
  {
   "cell_type": "code",
   "execution_count": 34,
   "metadata": {},
   "outputs": [
    {
     "data": {
      "text/html": [
       "<div>\n",
       "<style scoped>\n",
       "    .dataframe tbody tr th:only-of-type {\n",
       "        vertical-align: middle;\n",
       "    }\n",
       "\n",
       "    .dataframe tbody tr th {\n",
       "        vertical-align: top;\n",
       "    }\n",
       "\n",
       "    .dataframe thead th {\n",
       "        text-align: right;\n",
       "    }\n",
       "</style>\n",
       "<table border=\"1\" class=\"dataframe\">\n",
       "  <thead>\n",
       "    <tr style=\"text-align: right;\">\n",
       "      <th></th>\n",
       "      <th>Tweets</th>\n",
       "      <th>SN</th>\n",
       "    </tr>\n",
       "  </thead>\n",
       "  <tbody>\n",
       "    <tr>\n",
       "      <th>5</th>\n",
       "      <td>Wish I was still playing beer pong in the sun! Why is the British weather so terrible</td>\n",
       "      <td>0.113525</td>\n",
       "    </tr>\n",
       "    <tr>\n",
       "      <th>149</th>\n",
       "      <td>I’m having a shit week and I just want to go back to bed🙄😒</td>\n",
       "      <td>0.431076</td>\n",
       "    </tr>\n",
       "    <tr>\n",
       "      <th>150</th>\n",
       "      <td>Going gym without headphones is fucking horrible</td>\n",
       "      <td>0.117610</td>\n",
       "    </tr>\n",
       "    <tr>\n",
       "      <th>151</th>\n",
       "      <td>Having to wait till payday for a trim is the worst🤧🤧🤧🤧</td>\n",
       "      <td>0.824278</td>\n",
       "    </tr>\n",
       "    <tr>\n",
       "      <th>152</th>\n",
       "      <td>Grief after someone very close to you dies is the most painful thing in the world. It makes all other problems you have been through feel so small and irrelevant.</td>\n",
       "      <td>0.290916</td>\n",
       "    </tr>\n",
       "    <tr>\n",
       "      <th>179</th>\n",
       "      <td>whenever i wake up and have no notifications i know my day is going to be awful</td>\n",
       "      <td>0.050017</td>\n",
       "    </tr>\n",
       "    <tr>\n",
       "      <th>181</th>\n",
       "      <td>finally getting more confident with my skin &amp; the past few days i’ve been waking up with the worst breakouts😢</td>\n",
       "      <td>0.261675</td>\n",
       "    </tr>\n",
       "    <tr>\n",
       "      <th>184</th>\n",
       "      <td>All for fireworks but why can’t they make them without the noise, my dogs are so scared it’s horrible to see my babies this way😩☹️</td>\n",
       "      <td>0.090688</td>\n",
       "    </tr>\n",
       "    <tr>\n",
       "      <th>204</th>\n",
       "      <td>Just cried watching that video of those fuckfaces burning a grenfell tower effigy. Psychopaths. Heartbroken and utterly disgusted by what our species is capable of.😰</td>\n",
       "      <td>0.305518</td>\n",
       "    </tr>\n",
       "    <tr>\n",
       "      <th>207</th>\n",
       "      <td>Some people really are pathetic 🤦🏻‍♀️</td>\n",
       "      <td>0.572178</td>\n",
       "    </tr>\n",
       "  </tbody>\n",
       "</table>\n",
       "</div>"
      ],
      "text/plain": [
       "                                                                                                                                                                    Tweets  \\\n",
       "5                                                                                    Wish I was still playing beer pong in the sun! Why is the British weather so terrible   \n",
       "149                                                                                                             I’m having a shit week and I just want to go back to bed🙄😒   \n",
       "150                                                                                                                       Going gym without headphones is fucking horrible   \n",
       "151                                                                                                                 Having to wait till payday for a trim is the worst🤧🤧🤧🤧   \n",
       "152     Grief after someone very close to you dies is the most painful thing in the world. It makes all other problems you have been through feel so small and irrelevant.   \n",
       "179                                                                                        whenever i wake up and have no notifications i know my day is going to be awful   \n",
       "181                                                          finally getting more confident with my skin & the past few days i’ve been waking up with the worst breakouts😢   \n",
       "184                                     All for fireworks but why can’t they make them without the noise, my dogs are so scared it’s horrible to see my babies this way😩☹️   \n",
       "204  Just cried watching that video of those fuckfaces burning a grenfell tower effigy. Psychopaths. Heartbroken and utterly disgusted by what our species is capable of.😰   \n",
       "207                                                                                                                                  Some people really are pathetic 🤦🏻‍♀️   \n",
       "\n",
       "           SN  \n",
       "5    0.113525  \n",
       "149  0.431076  \n",
       "150  0.117610  \n",
       "151  0.824278  \n",
       "152  0.290916  \n",
       "179  0.050017  \n",
       "181  0.261675  \n",
       "184  0.090688  \n",
       "204  0.305518  \n",
       "207  0.572178  "
      ]
     },
     "execution_count": 34,
     "metadata": {},
     "output_type": "execute_result"
    }
   ],
   "source": [
    "# Neg-pos:\n",
    "corpus[(corpus['Sentiment'] == 'neg') & (corpus['SN_tri'] == 'pos')][['Tweets', 'SN']]"
   ]
  },
  {
   "cell_type": "markdown",
   "metadata": {},
   "source": [
    "One distinction that can be drawn is that 6/10 negative tweets that were classified as positive have emoticons. Since Sentiment Neuron was trained on the Amazon review dataset and tested on the Imdb review dataset, it was not largely exposed to emoticons. If we test the classifier on the same corpus with emoticons removed, will the performance improve?"
   ]
  },
  {
   "cell_type": "code",
   "execution_count": 37,
   "metadata": {},
   "outputs": [],
   "source": [
    "no_emo = pd.read_csv('test_corpus_no_emo.tsv', sep='\\t', header=0)"
   ]
  },
  {
   "cell_type": "code",
   "execution_count": 38,
   "metadata": {},
   "outputs": [
    {
     "name": "stdout",
     "output_type": "stream",
     "text": [
      "45.001 seconds to transform 210 examples\n",
      "             precision    recall  f1-score   support\n",
      "\n",
      "        neg       0.62      0.77      0.69        70\n",
      "        neu       0.48      0.17      0.25        70\n",
      "        pos       0.63      0.89      0.74        70\n",
      "\n",
      "avg / total       0.58      0.61      0.56       210\n",
      "\n"
     ]
    }
   ],
   "source": [
    "text_features = model.transform(no_emo['text'])\n",
    "score = text_features[:, 2388]\n",
    "no_emo['SN'] = score\n",
    "no_emo['SN_tri'] = no_emo['SN'].map(interval)\n",
    "print(classification_report(no_emo['label'], no_emo['SN_tri'], target_names=['neg', 'neu', 'pos']))\n",
    "cnf_matrix = confusion_matrix(no_emo['label'], no_emo['SN_tri'])\n",
    "np.set_printoptions(precision=2)"
   ]
  },
  {
   "cell_type": "code",
   "execution_count": 41,
   "metadata": {},
   "outputs": [
    {
     "name": "stdout",
     "output_type": "stream",
     "text": [
      "Confusion matrix, without normalization\n",
      "[[54 10  6]\n",
      " [28 12 30]\n",
      " [ 5  3 62]]\n"
     ]
    },
    {
     "data": {
      "image/png": "[encoded data removed]",
      "text/plain": [
       "<Figure size 576x432 with 2 Axes>"
      ]
     },
     "metadata": {},
     "output_type": "display_data"
    }
   ],
   "source": [
    "plt.figure(figsize=(8,6))\n",
    "plot_confusion_matrix(cnf_matrix, classes=['neg', 'neu', 'pos'],\n",
    "                      title='Sentiment Neuron (without emoticons) confusion matrix')"
   ]
  },
  {
   "cell_type": "code",
   "execution_count": 42,
   "metadata": {},
   "outputs": [],
   "source": [
    "no_emo['SN_labels'] = no_emo['SN'].map(detailed_scale)\n",
    "list_ordering = ['very neg', 'neg', 'neu', 'pos', 'very pos']\n",
    "no_emo[\"SN_labels\"] = pd.Categorical(no_emo[\"SN_labels\"], categories=list_ordering, ordered=True)\n",
    "list_ordering = ['neg', 'neu', 'pos']\n",
    "no_emo[\"label\"] = pd.Categorical(no_emo[\"label\"], categories=list_ordering, ordered=True) "
   ]
  },
  {
   "cell_type": "code",
   "execution_count": 44,
   "metadata": {},
   "outputs": [
    {
     "data": {
      "image/png": "[encoded data removed]",
      "text/plain": [
       "<Figure size 1080x360 with 3 Axes>"
      ]
     },
     "metadata": {},
     "output_type": "display_data"
    }
   ],
   "source": [
    "g = sns.catplot(x=\"SN_labels\", col=\"label\", col_wrap=3, data=no_emo, \n",
    "                kind=\"count\", palette='muted')"
   ]
  },
  {
   "cell_type": "markdown",
   "metadata": {},
   "source": [
    "The performance of the classifier descreased. The preprocessed stripped from emoticons texts might interfere with the inner preprocessing module which is built into Sentiment Neuron. "
   ]
  },
  {
   "cell_type": "markdown",
   "metadata": {},
   "source": [
    "## Sentiment VADER"
   ]
  },
  {
   "cell_type": "markdown",
   "metadata": {},
   "source": [
    "Let's draw the same visualizations for the Sentiment VADER classifier."
   ]
  },
  {
   "cell_type": "markdown",
   "metadata": {},
   "source": [
    "The model's requirements and description can be foun in the following __[GitHub repository](https://github.com/cjhutto/vaderSentiment)__."
   ]
  },
  {
   "cell_type": "code",
   "execution_count": 25,
   "metadata": {},
   "outputs": [],
   "source": [
    "from vaderSentiment.vaderSentiment import SentimentIntensityAnalyzer"
   ]
  },
  {
   "cell_type": "code",
   "execution_count": 26,
   "metadata": {},
   "outputs": [],
   "source": [
    "analyzer = SentimentIntensityAnalyzer()\n",
    "SV_score = [analyzer.polarity_scores(t)['compound'] for t in corpus['Tweets']]"
   ]
  },
  {
   "cell_type": "code",
   "execution_count": 27,
   "metadata": {},
   "outputs": [],
   "source": [
    "corpus['SV'] = SV_score"
   ]
  },
  {
   "cell_type": "code",
   "execution_count": 28,
   "metadata": {},
   "outputs": [],
   "source": [
    "def s(row):\n",
    "    if row['SV'] >= 0.05:\n",
    "        val = 'pos'\n",
    "    elif row['SV'] <= -0.05:\n",
    "        val = 'neg'\n",
    "    else:\n",
    "        val = 'neu'\n",
    "    return val"
   ]
  },
  {
   "cell_type": "code",
   "execution_count": 29,
   "metadata": {},
   "outputs": [],
   "source": [
    "corpus['SV_tri'] = corpus.apply(s, axis=1)"
   ]
  },
  {
   "cell_type": "code",
   "execution_count": 30,
   "metadata": {},
   "outputs": [
    {
     "name": "stdout",
     "output_type": "stream",
     "text": [
      "             precision    recall  f1-score   support\n",
      "\n",
      "        neg       0.81      0.86      0.83        70\n",
      "        neu       0.79      0.21      0.34        70\n",
      "        pos       0.56      0.93      0.70        70\n",
      "\n",
      "avg / total       0.72      0.67      0.62       210\n",
      "\n"
     ]
    }
   ],
   "source": [
    "print(classification_report(corpus['Sentiment'], corpus['SV_tri'], target_names=['neg', 'neu', 'pos']))"
   ]
  },
  {
   "cell_type": "code",
   "execution_count": 31,
   "metadata": {},
   "outputs": [],
   "source": [
    "cnf_matrix = confusion_matrix(corpus['Sentiment'], corpus['SV_tri'])\n",
    "np.set_printoptions(precision=2)"
   ]
  },
  {
   "cell_type": "code",
   "execution_count": 32,
   "metadata": {},
   "outputs": [
    {
     "name": "stdout",
     "output_type": "stream",
     "text": [
      "Confusion matrix, without normalization\n",
      "[[60  2  8]\n",
      " [11 15 44]\n",
      " [ 3  2 65]]\n"
     ]
    },
    {
     "data": {
      "image/png": "[encoded data removed]",
      "text/plain": [
       "<Figure size 576x432 with 2 Axes>"
      ]
     },
     "metadata": {},
     "output_type": "display_data"
    }
   ],
   "source": [
    "plt.figure(figsize=(8,6))\n",
    "plot_confusion_matrix(cnf_matrix, classes=['neg', 'neu', 'pos'],\n",
    "                      title='SentiVADER confusion matrix')"
   ]
  },
  {
   "cell_type": "code",
   "execution_count": 33,
   "metadata": {},
   "outputs": [],
   "source": [
    "def intervals(row):\n",
    "    if row['SV'] >= 0.6:\n",
    "        val = 'very pos'\n",
    "    elif row['SV'] < 0.6 and row['SV'] >= 0.05:\n",
    "        val = 'pos'\n",
    "    elif row['SV'] < 0.05 and row['SV'] > -0.05:\n",
    "        val = 'neu'\n",
    "    elif row['SV'] <= -0.05 and row['SV'] > -0.6:\n",
    "        val = 'neg'\n",
    "    elif row['SV'] <= -0.6:\n",
    "        val = 'very neg'\n",
    "    return val"
   ]
  },
  {
   "cell_type": "code",
   "execution_count": 97,
   "metadata": {},
   "outputs": [
    {
     "data": {
      "text/plain": [
       "-0.9466"
      ]
     },
     "execution_count": 97,
     "metadata": {},
     "output_type": "execute_result"
    }
   ],
   "source": [
    "min(corpus['SV'])"
   ]
  },
  {
   "cell_type": "code",
   "execution_count": 34,
   "metadata": {},
   "outputs": [],
   "source": [
    "corpus['SV_labels'] = corpus.apply(intervals, axis=1)"
   ]
  },
  {
   "cell_type": "code",
   "execution_count": 35,
   "metadata": {},
   "outputs": [],
   "source": [
    "list_ordering = ['very neg', 'neg', 'neu', 'pos', 'very pos']\n",
    "corpus[\"SV_labels\"] = pd.Categorical(corpus[\"SV_labels\"], categories=list_ordering, ordered=True) "
   ]
  },
  {
   "cell_type": "code",
   "execution_count": 36,
   "metadata": {},
   "outputs": [
    {
     "data": {
      "image/png": "[encoded data removed]",
      "text/plain": [
       "<Figure size 1080x360 with 3 Axes>"
      ]
     },
     "metadata": {},
     "output_type": "display_data"
    }
   ],
   "source": [
    "g = sns.catplot(x=\"SV_labels\", col=\"Sentiment\", col_wrap=3, data=corpus, \n",
    "                kind=\"count\", palette='muted')"
   ]
  },
  {
   "cell_type": "code",
   "execution_count": 131,
   "metadata": {},
   "outputs": [],
   "source": [
    "corpus.to_csv('cont_output_res.csv', index=False)"
   ]
  },
  {
   "cell_type": "markdown",
   "metadata": {},
   "source": [
    "## Training my own model"
   ]
  },
  {
   "cell_type": "markdown",
   "metadata": {},
   "source": [
    "### Preparing data"
   ]
  },
  {
   "cell_type": "markdown",
   "metadata": {},
   "source": [
    "The training dataset was collected from different sources:\n",
    "  - __[The Twitter Airline Sentiment dataset](https://www.kaggle.com/crowdflower/twitter-airline-sentiment/home)__ - a collection of tweets where the sentiment towards six US airline is expressed (trinary labelling).\n",
    "  - __[The GOP Debate dataset](https://www.kaggle.com/crowdflower/first-gop-debate-twitter-sentiment)__ - a collection of tweets related to the Republican Party debate in Ohio (2016). Human annotators were asked to determine the sentiment of tweets (trinary labelling). \n",
    "  - __[The Weather Sentiment dataset](https://data.world/crowdflower/weather-sentiment)__ -  a collection of tweets about the weather. Annotators evalueted those tweets with neg/neu/pos labels. \n",
    "  - __[The Twitter Sentiment dataset](https://www.kaggle.com/rabinandan/twitter-sentiment)__ - a corpus of tweets collected and annotated by the Kaggle competition enthusiast.\n",
    "\n",
    "The source data is included to the repository together with the concatinated dataset with unified labelling system that can be directly inputted to the model pipeline. "
   ]
  },
  {
   "cell_type": "markdown",
   "metadata": {},
   "source": [
    "The implementation of NB-SVM that is used in my report is adapted from __[Luis Rei's repository](https://github.com/lrei/nbsvm)__. Before running the model the texts should be preprocessed: they should lemmatized, stop words and emoticons are stripped. "
   ]
  },
  {
   "cell_type": "markdown",
   "metadata": {},
   "source": [
    "## Lemmatizing the collected corpus"
   ]
  },
  {
   "cell_type": "markdown",
   "metadata": {},
   "source": [
    "Besides lemmatization, stop words and emoticons were stripped."
   ]
  },
  {
   "cell_type": "code",
   "execution_count": 48,
   "metadata": {},
   "outputs": [],
   "source": [
    "def lemmatization(text):\n",
    "    row = text['Tweets']\n",
    "#     print(type(row))\n",
    "#     print(row)\n",
    "    #row = text\n",
    "    row = row.replace(\"\\r\",\"\")\n",
    "    row = row.replace(\"\\n\",\"\")\n",
    "    row = row.replace('RT', '')\n",
    "    new_text = [token.lemma_ for token in nlp(row) if token.lemma_ != '-PRON-' and token.is_stop == False and token.pos_ != 'SYM' and token.pos_ != 'PUNCT' and not token.text.startswith('#')\n",
    "               and token.text.isalpha()]\n",
    "    return ' '.join(new_text)"
   ]
  },
  {
   "cell_type": "code",
   "execution_count": 85,
   "metadata": {},
   "outputs": [
    {
     "data": {
      "text/plain": [
       "'guess severe thunderstorm head wv nomorerain'"
      ]
     },
     "execution_count": 85,
     "metadata": {},
     "output_type": "execute_result"
    }
   ],
   "source": [
    "string = 'Guess another severe #Thunderstorm is heading toward #WV. ❤️❤️❤️❤️ \\n#NoMoreRain'\n",
    "lemmatization(string)"
   ]
  },
  {
   "cell_type": "markdown",
   "metadata": {},
   "source": [
    "Unfortunately, the stacked dataset is highle unbalanced. Hence, some negative and neutral tweets were randomly omitted."
   ]
  },
  {
   "cell_type": "code",
   "execution_count": 5,
   "metadata": {},
   "outputs": [],
   "source": [
    "train = pd.read_csv('train_corpus.tsv', sep='\\t', header=0)"
   ]
  },
  {
   "cell_type": "code",
   "execution_count": 6,
   "metadata": {},
   "outputs": [],
   "source": [
    "test = pd.read_csv('test_corpus_no_emo.tsv', sep='\\t', header=0)"
   ]
  },
  {
   "cell_type": "code",
   "execution_count": 53,
   "metadata": {},
   "outputs": [
    {
     "data": {
      "image/png": "[encoded data removed]",
      "text/plain": [
       "<Figure size 432x288 with 1 Axes>"
      ]
     },
     "metadata": {},
     "output_type": "display_data"
    }
   ],
   "source": [
    "balance = sns.countplot(x=\"label\", data=train)"
   ]
  },
  {
   "cell_type": "markdown",
   "metadata": {},
   "source": [
    "Training different classifier configurations on our data. The training corpus is the stacked dataset described above. The test corpus - is the collection of tweets that was used for Sentiment Neuron and SentiVADER classfiers."
   ]
  },
  {
   "cell_type": "code",
   "execution_count": 7,
   "metadata": {},
   "outputs": [],
   "source": [
    "def pipeline_function(n_gram, classifier):\n",
    "    # binary=True for the NBSVM model\n",
    "    pipeline = Pipeline([\n",
    "              ('vect', CountVectorizer(ngram_range=(1, n_gram), binary=False, token_pattern=r\"\\S+\")),\n",
    "              ('clf',   classifier)\n",
    "      ])\n",
    "    model = pipeline.fit(train['text'].values.astype('U'), train['label'])\n",
    "    pred = model.predict(test['text'].values.astype('U'))\n",
    "    print(classification_report(test['label'], pred, target_names=['neg', 'neu', 'pos']))\n",
    "    cnf_matrix = confusion_matrix(test['label'], pred)\n",
    "    np.set_printoptions(precision=2)\n",
    "    return cnf_matrix"
   ]
  },
  {
   "cell_type": "code",
   "execution_count": 63,
   "metadata": {},
   "outputs": [
    {
     "name": "stdout",
     "output_type": "stream",
     "text": [
      "             precision    recall  f1-score   support\n",
      "\n",
      "        neg       0.60      0.84      0.70        70\n",
      "        neu       0.50      0.21      0.30        70\n",
      "        pos       0.62      0.73      0.67        70\n",
      "\n",
      "avg / total       0.57      0.60      0.56       210\n",
      "\n"
     ]
    }
   ],
   "source": [
    "# NB-SVM trained on the unigram matrix\n",
    "results_NBSVM1 = pipeline_function(1, nbsvm2.NBSVM())"
   ]
  },
  {
   "cell_type": "code",
   "execution_count": 64,
   "metadata": {},
   "outputs": [
    {
     "name": "stdout",
     "output_type": "stream",
     "text": [
      "Confusion matrix, without normalization\n",
      "[[59  5  6]\n",
      " [30 15 25]\n",
      " [ 9 10 51]]\n"
     ]
    },
    {
     "data": {
      "image/png": "[encoded data removed]",
      "text/plain": [
       "<Figure size 576x432 with 2 Axes>"
      ]
     },
     "metadata": {},
     "output_type": "display_data"
    }
   ],
   "source": [
    "plt.figure(figsize=(8,6))\n",
    "plot_confusion_matrix(results_NBSVM1, classes=['neg', 'neu', 'pos'],\n",
    "                      title='NBSVM (unigram) confusion matrix')"
   ]
  },
  {
   "cell_type": "code",
   "execution_count": 65,
   "metadata": {},
   "outputs": [
    {
     "name": "stdout",
     "output_type": "stream",
     "text": [
      "             precision    recall  f1-score   support\n",
      "\n",
      "        neg       0.57      0.63      0.60        70\n",
      "        neu       0.51      0.30      0.38        70\n",
      "        pos       0.67      0.89      0.77        70\n",
      "\n",
      "avg / total       0.59      0.60      0.58       210\n",
      "\n"
     ]
    }
   ],
   "source": [
    "# NB-SVM trained on the unigram+bigram matrix\n",
    "results_NBSVM2 = pipeline_function(2, nbsvm2.NBSVM())"
   ]
  },
  {
   "cell_type": "code",
   "execution_count": 66,
   "metadata": {},
   "outputs": [
    {
     "name": "stdout",
     "output_type": "stream",
     "text": [
      "Confusion matrix, without normalization\n",
      "[[44 16 10]\n",
      " [29 21 20]\n",
      " [ 4  4 62]]\n"
     ]
    },
    {
     "data": {
      "image/png": "[encoded data removed]",
      "text/plain": [
       "<Figure size 576x432 with 2 Axes>"
      ]
     },
     "metadata": {},
     "output_type": "display_data"
    }
   ],
   "source": [
    "plt.figure(figsize=(8,6))\n",
    "plot_confusion_matrix(results_NBSVM2, classes=['neg', 'neu', 'pos'],\n",
    "                      title='NBSVM (unigram+bigram) confusion matrix')"
   ]
  },
  {
   "cell_type": "code",
   "execution_count": 67,
   "metadata": {},
   "outputs": [
    {
     "name": "stdout",
     "output_type": "stream",
     "text": [
      "             precision    recall  f1-score   support\n",
      "\n",
      "        neg       0.58      0.64      0.61        70\n",
      "        neu       0.53      0.30      0.38        70\n",
      "        pos       0.67      0.89      0.76        70\n",
      "\n",
      "avg / total       0.59      0.61      0.58       210\n",
      "\n"
     ]
    }
   ],
   "source": [
    "# NB-SVM trained on the unigram+bigram+trigram matrix\n",
    "results_NBSVM3 = pipeline_function(3, nbsvm2.NBSVM())"
   ]
  },
  {
   "cell_type": "code",
   "execution_count": 68,
   "metadata": {},
   "outputs": [
    {
     "name": "stdout",
     "output_type": "stream",
     "text": [
      "Confusion matrix, without normalization\n",
      "[[45 15 10]\n",
      " [28 21 21]\n",
      " [ 4  4 62]]\n"
     ]
    },
    {
     "data": {
      "image/png": "[encoded data removed]",
      "text/plain": [
       "<Figure size 576x432 with 2 Axes>"
      ]
     },
     "metadata": {},
     "output_type": "display_data"
    }
   ],
   "source": [
    "plt.figure(figsize=(8,6))\n",
    "plot_confusion_matrix(results_NBSVM3, classes=['neg', 'neu', 'pos'],\n",
    "                      title='NBSVM (unigram+bigram+trigram) confusion matrix')"
   ]
  },
  {
   "cell_type": "markdown",
   "metadata": {},
   "source": [
    "I am going to run a multinomial Naive Bayes classifier for the sake of comparison."
   ]
  },
  {
   "cell_type": "code",
   "execution_count": 71,
   "metadata": {},
   "outputs": [
    {
     "name": "stdout",
     "output_type": "stream",
     "text": [
      "             precision    recall  f1-score   support\n",
      "\n",
      "        neg       0.66      0.83      0.73        70\n",
      "        neu       0.93      0.39      0.55        70\n",
      "        pos       0.74      0.99      0.85        70\n",
      "\n",
      "avg / total       0.78      0.73      0.71       210\n",
      "\n"
     ]
    }
   ],
   "source": [
    "# NB trained on the unigram matrix\n",
    "results_NB1 = pipeline_function(1, MultinomialNB())"
   ]
  },
  {
   "cell_type": "code",
   "execution_count": 73,
   "metadata": {},
   "outputs": [
    {
     "name": "stdout",
     "output_type": "stream",
     "text": [
      "Confusion matrix, without normalization\n",
      "[[58  2 10]\n",
      " [29 27 14]\n",
      " [ 1  0 69]]\n"
     ]
    },
    {
     "data": {
      "image/png": "[encoded data removed]",
      "text/plain": [
       "<Figure size 576x432 with 2 Axes>"
      ]
     },
     "metadata": {},
     "output_type": "display_data"
    }
   ],
   "source": [
    "plt.figure(figsize=(8,6))\n",
    "plot_confusion_matrix(results_NB1, classes=['neg', 'neu', 'pos'],\n",
    "                      title='NB (unigram) confusion matrix')"
   ]
  },
  {
   "cell_type": "code",
   "execution_count": 74,
   "metadata": {},
   "outputs": [
    {
     "name": "stdout",
     "output_type": "stream",
     "text": [
      "             precision    recall  f1-score   support\n",
      "\n",
      "        neg       0.64      0.81      0.72        70\n",
      "        neu       0.88      0.30      0.45        70\n",
      "        pos       0.71      0.99      0.83        70\n",
      "\n",
      "avg / total       0.74      0.70      0.66       210\n",
      "\n"
     ]
    }
   ],
   "source": [
    "# NB trained on the unigram+bigram matrix\n",
    "results_NB2 = pipeline_function(2, MultinomialNB())"
   ]
  },
  {
   "cell_type": "code",
   "execution_count": 77,
   "metadata": {},
   "outputs": [
    {
     "name": "stdout",
     "output_type": "stream",
     "text": [
      "Confusion matrix, without normalization\n",
      "[[57  3 10]\n",
      " [31 21 18]\n",
      " [ 1  0 69]]\n"
     ]
    },
    {
     "data": {
      "image/png": "[encoded data removed]",
      "text/plain": [
       "<Figure size 576x432 with 2 Axes>"
      ]
     },
     "metadata": {},
     "output_type": "display_data"
    }
   ],
   "source": [
    "plt.figure(figsize=(8,6))\n",
    "plot_confusion_matrix(results_NB2, classes=['neg', 'neu', 'pos'],\n",
    "                      title='NB (unigram+bigram) confusion matrix')"
   ]
  },
  {
   "cell_type": "code",
   "execution_count": 76,
   "metadata": {},
   "outputs": [
    {
     "name": "stdout",
     "output_type": "stream",
     "text": [
      "             precision    recall  f1-score   support\n",
      "\n",
      "        neg       0.64      0.81      0.72        70\n",
      "        neu       0.88      0.30      0.45        70\n",
      "        pos       0.71      0.99      0.83        70\n",
      "\n",
      "avg / total       0.74      0.70      0.66       210\n",
      "\n"
     ]
    }
   ],
   "source": [
    "# NB trained on the unigram+bigram+trigram matrix\n",
    "results_NB3 = pipeline_function(3, MultinomialNB())"
   ]
  },
  {
   "cell_type": "code",
   "execution_count": 78,
   "metadata": {},
   "outputs": [
    {
     "name": "stdout",
     "output_type": "stream",
     "text": [
      "Confusion matrix, without normalization\n",
      "[[57  3 10]\n",
      " [31 21 18]\n",
      " [ 1  0 69]]\n"
     ]
    },
    {
     "data": {
      "image/png": "[encoded data removed]",
      "text/plain": [
       "<Figure size 576x432 with 2 Axes>"
      ]
     },
     "metadata": {},
     "output_type": "display_data"
    }
   ],
   "source": [
    "plt.figure(figsize=(8,6))\n",
    "plot_confusion_matrix(results_NB3, classes=['neg', 'neu', 'pos'],\n",
    "                      title='NB (unigram+bigram+trigram) confusion matrix')"
   ]
  },
  {
   "cell_type": "code",
   "execution_count": 10,
   "metadata": {
    "scrolled": true
   },
   "outputs": [
    {
     "name": "stdout",
     "output_type": "stream",
     "text": [
      "             precision    recall  f1-score   support\n",
      "\n",
      "        neg       0.66      0.87      0.75        70\n",
      "        neu       0.72      0.33      0.45        70\n",
      "        pos       0.72      0.89      0.79        70\n",
      "\n",
      "avg / total       0.70      0.70      0.67       210\n",
      "\n"
     ]
    }
   ],
   "source": [
    "#SVM uni\n",
    "results_SVM1 = pipeline_function(1, LinearSVC())"
   ]
  },
  {
   "cell_type": "code",
   "execution_count": 12,
   "metadata": {},
   "outputs": [
    {
     "name": "stdout",
     "output_type": "stream",
     "text": [
      "Confusion matrix, without normalization\n",
      "[[61  6  3]\n",
      " [26 23 21]\n",
      " [ 5  3 62]]\n"
     ]
    },
    {
     "data": {
      "image/png": "[encoded data removed]",
      "text/plain": [
       "<Figure size 576x432 with 2 Axes>"
      ]
     },
     "metadata": {},
     "output_type": "display_data"
    }
   ],
   "source": [
    "plt.figure(figsize=(8,6))\n",
    "plot_confusion_matrix(results_SVM1, classes=['neg', 'neu', 'pos'],\n",
    "                      title='SVM (unigram) confusion matrix')"
   ]
  },
  {
   "cell_type": "code",
   "execution_count": 13,
   "metadata": {
    "scrolled": true
   },
   "outputs": [
    {
     "name": "stdout",
     "output_type": "stream",
     "text": [
      "             precision    recall  f1-score   support\n",
      "\n",
      "        neg       0.69      0.87      0.77        70\n",
      "        neu       0.77      0.33      0.46        70\n",
      "        pos       0.70      0.91      0.80        70\n",
      "\n",
      "avg / total       0.72      0.70      0.67       210\n",
      "\n"
     ]
    }
   ],
   "source": [
    "#SVM uni+bi\n",
    "results_SVM2 = pipeline_function(2, LinearSVC())"
   ]
  },
  {
   "cell_type": "code",
   "execution_count": 14,
   "metadata": {},
   "outputs": [
    {
     "name": "stdout",
     "output_type": "stream",
     "text": [
      "Confusion matrix, without normalization\n",
      "[[61  5  4]\n",
      " [24 23 23]\n",
      " [ 4  2 64]]\n"
     ]
    },
    {
     "data": {
      "image/png": "[encoded data removed]",
      "text/plain": [
       "<Figure size 576x432 with 2 Axes>"
      ]
     },
     "metadata": {},
     "output_type": "display_data"
    }
   ],
   "source": [
    "plt.figure(figsize=(8,6))\n",
    "plot_confusion_matrix(results_SVM2, classes=['neg', 'neu', 'pos'],\n",
    "                      title='SVM (unigram+bigram) confusion matrix')"
   ]
  }
 ],
 "metadata": {
  "kernelspec": {
   "display_name": "Python 3",
   "language": "python",
   "name": "python3"
  },
  "language_info": {
   "codemirror_mode": {
    "name": "ipython",
    "version": 3
   },
   "file_extension": ".py",
   "mimetype": "text/x-python",
   "name": "python",
   "nbconvert_exporter": "python",
   "pygments_lexer": "ipython3",
   "version": "3.6.5"
  }
 },
 "nbformat": 4,
 "nbformat_minor": 2
}
